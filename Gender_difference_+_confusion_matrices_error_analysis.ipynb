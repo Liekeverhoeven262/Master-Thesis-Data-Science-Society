{
  "nbformat": 4,
  "nbformat_minor": 0,
  "metadata": {
    "colab": {
      "provenance": [],
      "authorship_tag": "ABX9TyNjcIZwZGrPHE6qPX3xKnHT",
      "include_colab_link": true
    },
    "kernelspec": {
      "name": "python3",
      "display_name": "Python 3"
    },
    "language_info": {
      "name": "python"
    }
  },
  "cells": [
    {
      "cell_type": "markdown",
      "metadata": {
        "id": "view-in-github",
        "colab_type": "text"
      },
      "source": [
        "<a href=\"https://colab.research.google.com/github/Liekeverhoeven262/Master-Thesis-Data-Science-Society/blob/main/Gender_difference_%2B_confusion_matrices_error_analysis.ipynb\" target=\"_parent\"><img src=\"https://colab.research.google.com/assets/colab-badge.svg\" alt=\"Open In Colab\"/></a>"
      ]
    },
    {
      "cell_type": "code",
      "execution_count": 1,
      "metadata": {
        "colab": {
          "base_uri": "https://localhost:8080/"
        },
        "id": "LhGuIg3aVG7W",
        "outputId": "deae69bc-37e9-4220-8084-6f16541de0d0"
      },
      "outputs": [
        {
          "output_type": "stream",
          "name": "stdout",
          "text": [
            "Mounted at /content/drive\n"
          ]
        }
      ],
      "source": [
        "from google.colab import drive\n",
        "drive.mount('/content/drive')"
      ]
    },
    {
      "cell_type": "code",
      "source": [
        "import pandas as pd\n",
        "\n",
        "# Construct the path to the file in your Google Drive\n",
        "personal_data_path = '/content/drive/My Drive/Master Thesis/FINAL_personal_data_compact3without.xlsx'\n",
        "thermal_data_path = '/content/drive/My Drive/Master Thesis/FINAL_scaled_features_df_max.xlsx'\n",
        "gender_path = '/content/drive/My Drive/Master Thesis/Gender.xlsx'\n",
        "\n",
        "# Load the dataset\n",
        "personal_data_df = pd.read_excel(personal_data_path)\n",
        "thermal_data_df = pd.read_excel(thermal_data_path)\n",
        "gender_df = pd.read_excel(gender_path)"
      ],
      "metadata": {
        "id": "njDXYI7YVqY0"
      },
      "execution_count": 2,
      "outputs": []
    },
    {
      "cell_type": "code",
      "source": [
        "print(gender_df.head)"
      ],
      "metadata": {
        "colab": {
          "base_uri": "https://localhost:8080/"
        },
        "id": "wp2jf33_ms60",
        "outputId": "ff0a53fd-638c-4a86-92c1-b6033665d2a1"
      },
      "execution_count": null,
      "outputs": [
        {
          "output_type": "stream",
          "name": "stdout",
          "text": [
            "<bound method NDFrame.head of       ID  Gender\n",
            "0      5       2\n",
            "1      6       1\n",
            "2      7       2\n",
            "3      8       1\n",
            "4      9       1\n",
            "..   ...     ...\n",
            "310  328       2\n",
            "311  329       2\n",
            "312  330       2\n",
            "313  331       2\n",
            "314  332       2\n",
            "\n",
            "[315 rows x 2 columns]>\n"
          ]
        }
      ]
    },
    {
      "cell_type": "code",
      "source": [
        "data = pd.merge(thermal_data_df, personal_data_df, on='ID')"
      ],
      "metadata": {
        "id": "xl67LkURVqbt"
      },
      "execution_count": 3,
      "outputs": []
    },
    {
      "cell_type": "code",
      "source": [
        "import pandas as pd\n",
        "from sklearn.model_selection import train_test_split\n",
        "from xgboost import XGBClassifier\n",
        "from sklearn.metrics import classification_report, recall_score, precision_score, average_precision_score\n",
        "from imblearn.over_sampling import SMOTE"
      ],
      "metadata": {
        "id": "iBVSeeANVqfA"
      },
      "execution_count": 4,
      "outputs": []
    },
    {
      "cell_type": "code",
      "source": [
        "features_with_cluster = ['Left Cheek Sum', 'Left Cheek Variance', 'Left Cheek Standard Deviation', 'Left Cheek Maximum',\n",
        "            'Left Cheek Minimum', 'Left Cheek Median', 'Left Cheek Mean', 'Left Cheek Mean Absolute Change',\n",
        "            'Left Cheek Maximum Slope', 'Left Cheek Minimum Slope', 'Right Cheek Sum', 'Right Cheek Variance',\n",
        "            'Right Cheek Standard Deviation', 'Right Cheek Maximum', 'Right Cheek Minimum', 'Right Cheek Median',\n",
        "            'Right Cheek Mean', 'Right Cheek Mean Absolute Change', 'Right Cheek Maximum Slope', 'Right Cheek Minimum Slope',\n",
        "            'Below Nose Sum', 'Below Nose Variance', 'Below Nose Standard Deviation', 'Below Nose Maximum',\n",
        "            'Below Nose Minimum', 'Below Nose Median', 'Below Nose Mean', 'Below Nose Mean Absolute Change',\n",
        "            'Below Nose Maximum Slope', 'Below Nose Minimum Slope', 'Between Eyes Sum', 'Between Eyes Variance',\n",
        "            'Between Eyes Standard Deviation', 'Between Eyes Maximum', 'Between Eyes Minimum', 'Between Eyes Median',\n",
        "            'Between Eyes Mean', 'Between Eyes Mean Absolute Change', 'Between Eyes Maximum Slope',\n",
        "            'Between Eyes Minimum Slope', 'Chin Sum', 'Chin Variance', 'Chin Standard Deviation', 'Chin Maximum',\n",
        "            'Chin Minimum', 'Chin Median', 'Chin Mean', 'Chin Mean Absolute Change', 'Chin Maximum Slope',\n",
        "            'Chin Minimum Slope', 'Nose Sum', 'Nose Variance', 'Nose Standard Deviation', 'Nose Maximum',\n",
        "            'Nose Minimum', 'Nose Median', 'Nose Mean', 'Nose Mean Absolute Change', 'Nose Maximum Slope',\n",
        "            'Nose Minimum Slope', 'VVR1', 'VVR2', 'Cluster']"
      ],
      "metadata": {
        "id": "Ndd_asFvVqhx"
      },
      "execution_count": 5,
      "outputs": []
    },
    {
      "cell_type": "code",
      "source": [
        "# One-hot encode 'Cluster'\n",
        "data_with_cluster = pd.get_dummies(data, columns=['Cluster'], prefix='Cluster')\n",
        "\n",
        "# Check new columns\n",
        "print(data_with_cluster.columns)"
      ],
      "metadata": {
        "colab": {
          "base_uri": "https://localhost:8080/"
        },
        "id": "QcujTLZPVqku",
        "outputId": "f80365eb-da90-4ab2-cf1b-7cc881ca8c96"
      },
      "execution_count": 6,
      "outputs": [
        {
          "output_type": "stream",
          "name": "stdout",
          "text": [
            "Index(['ID', 'Left Cheek Sum', 'Left Cheek Variance',\n",
            "       'Left Cheek Standard Deviation', 'Left Cheek Maximum',\n",
            "       'Left Cheek Minimum', 'Left Cheek Median', 'Left Cheek Mean',\n",
            "       'Left Cheek Mean Absolute Change', 'Left Cheek Maximum Slope',\n",
            "       'Left Cheek Minimum Slope', 'Right Cheek Sum', 'Right Cheek Variance',\n",
            "       'Right Cheek Standard Deviation', 'Right Cheek Maximum',\n",
            "       'Right Cheek Minimum', 'Right Cheek Median', 'Right Cheek Mean',\n",
            "       'Right Cheek Mean Absolute Change', 'Right Cheek Maximum Slope',\n",
            "       'Right Cheek Minimum Slope', 'Below Nose Sum', 'Below Nose Variance',\n",
            "       'Below Nose Standard Deviation', 'Below Nose Maximum',\n",
            "       'Below Nose Minimum', 'Below Nose Median', 'Below Nose Mean',\n",
            "       'Below Nose Mean Absolute Change', 'Below Nose Maximum Slope',\n",
            "       'Below Nose Minimum Slope', 'Between Eyes Sum', 'Between Eyes Variance',\n",
            "       'Between Eyes Standard Deviation', 'Between Eyes Maximum',\n",
            "       'Between Eyes Minimum', 'Between Eyes Median', 'Between Eyes Mean',\n",
            "       'Between Eyes Mean Absolute Change', 'Between Eyes Maximum Slope',\n",
            "       'Between Eyes Minimum Slope', 'Chin Sum', 'Chin Variance',\n",
            "       'Chin Standard Deviation', 'Chin Maximum', 'Chin Minimum',\n",
            "       'Chin Median', 'Chin Mean', 'Chin Mean Absolute Change',\n",
            "       'Chin Maximum Slope', 'Chin Minimum Slope', 'Nose Sum', 'Nose Variance',\n",
            "       'Nose Standard Deviation', 'Nose Maximum', 'Nose Minimum',\n",
            "       'Nose Median', 'Nose Mean', 'Nose Mean Absolute Change',\n",
            "       'Nose Maximum Slope', 'Nose Minimum Slope', 'Sum2', 'VVR1', 'VVR2',\n",
            "       'Cluster_0', 'Cluster_1', 'Cluster_2'],\n",
            "      dtype='object')\n"
          ]
        }
      ]
    },
    {
      "cell_type": "code",
      "source": [
        "# Include new cluster columns in the features list\n",
        "features_with_cluster = data_with_cluster.columns.difference(['ID', 'Sum2']).tolist()  # Exclude 'ID' and 'Sum2' from features\n",
        "\n",
        "# Define the target variable\n",
        "target_with_cluster = 'Sum2'"
      ],
      "metadata": {
        "id": "iDOMoixAWT-C"
      },
      "execution_count": 7,
      "outputs": []
    },
    {
      "cell_type": "code",
      "source": [
        "# Split the data into training and test sets\n",
        "X_train_with_cluster, X_test_with_cluster, y_train_with_cluster, y_test_with_cluster = train_test_split(\n",
        "    data_with_cluster[features_with_cluster], data_with_cluster[target_with_cluster], test_size=0.2, random_state=42)\n",
        "\n",
        "from imblearn.over_sampling import SMOTE\n",
        "\n",
        "# Apply SMOTE\n",
        "smote_with_cluster = SMOTE(random_state=42)\n",
        "X_train_smote_with_cluster, y_train_smote_with_cluster = smote_with_cluster.fit_resample(X_train_with_cluster, y_train_with_cluster)"
      ],
      "metadata": {
        "id": "YKKWQ8MYWUBC"
      },
      "execution_count": 8,
      "outputs": []
    },
    {
      "cell_type": "markdown",
      "source": [
        "From hyperparameter tuning:\n",
        "Fitting 5 folds for each of 2304 candidates, totalling 11520 fits\n",
        "Best parameters: {'colsample_bytree': 0.75, 'gamma': 0.1, 'learning_rate': 0.2, 'max_depth': 3, 'n_estimators': 100, 'subsample': 0.75}\n",
        "Best recall: 0.8923351158645276"
      ],
      "metadata": {
        "id": "ly6BCwAAWfwu"
      }
    },
    {
      "cell_type": "code",
      "source": [
        "from sklearn.metrics import classification_report, average_precision_score, roc_auc_score\n",
        "\n",
        "# Setup the optimized XGBoost model using the best parameters from GridSearchCV\n",
        "optimized_xgb_with_cluster = XGBClassifier(\n",
        "    n_estimators=100,\n",
        "    max_depth=3,\n",
        "    learning_rate=0.2,\n",
        "    subsample=0.75,\n",
        "    colsample_bytree=0.75,\n",
        "    gamma=0.1,\n",
        "    use_label_encoder=False,\n",
        "    eval_metric='logloss',\n",
        "    random_state=42\n",
        ")\n",
        "\n",
        "# Train the model on the balanced training set\n",
        "optimized_xgb_with_cluster.fit(X_train_smote_with_cluster, y_train_smote_with_cluster)\n",
        "\n",
        "# Predict on the test data\n",
        "predictions_optimized_with_cluster = optimized_xgb_with_cluster.predict(X_test_with_cluster)\n",
        "probabilities_optimized_with_cluster = optimized_xgb_with_cluster.predict_proba(X_test_with_cluster)[:, 1]  # probabilities for the positive class\n",
        "\n",
        "# Evaluate the model using classification report\n",
        "print(\"XGBoost Model Classification Report With Cluster:\")\n",
        "print(classification_report(y_test_with_cluster, predictions_optimized_with_cluster, digits=2))\n",
        "\n",
        "# Calculate specific metrics\n",
        "precision_with_cluster = precision_score(y_test_with_cluster, predictions_optimized_with_cluster, pos_label=1)\n",
        "recall_with_cluster = recall_score(y_test_with_cluster, predictions_optimized_with_cluster, pos_label=1)\n",
        "auc_pr_with_cluster = average_precision_score(y_test_with_cluster, probabilities_optimized_with_cluster)\n",
        "\n",
        "# Print specific metrics\n",
        "print(f'Precisie: {precision_with_cluster:.6f}')\n",
        "print(f'Recall: {recall_with_cluster:.2f}')\n",
        "print(f'AUC-PR: {auc_pr_with_cluster:.6f}')"
      ],
      "metadata": {
        "colab": {
          "base_uri": "https://localhost:8080/"
        },
        "id": "I2E1L7gEWUDs",
        "outputId": "b8ad3d72-3ef8-44c4-b3c4-9ad5aa5f65ac"
      },
      "execution_count": 9,
      "outputs": [
        {
          "output_type": "stream",
          "name": "stdout",
          "text": [
            "XGBoost Model Classification Report With Cluster:\n",
            "              precision    recall  f1-score   support\n",
            "\n",
            "           0       0.87      0.93      0.90        43\n",
            "           1       0.82      0.70      0.76        20\n",
            "\n",
            "    accuracy                           0.86        63\n",
            "   macro avg       0.85      0.82      0.83        63\n",
            "weighted avg       0.85      0.86      0.85        63\n",
            "\n",
            "Precisie: 0.823529\n",
            "Recall: 0.70\n",
            "AUC-PR: 0.792243\n"
          ]
        }
      ]
    },
    {
      "cell_type": "code",
      "source": [
        "import matplotlib.pyplot as plt\n",
        "from sklearn.metrics import confusion_matrix, ConfusionMatrixDisplay\n",
        "\n",
        "# Create the confusion matrix\n",
        "cm = confusion_matrix(y_test_with_cluster, predictions_optimized_with_cluster, labels=[0, 1])\n",
        "disp = ConfusionMatrixDisplay(confusion_matrix=cm, display_labels=[\"No VVR\", \"VVR\"])\n",
        "\n",
        "# Plot the confusion matrix\n",
        "fig, ax = plt.subplots()\n",
        "disp.plot(cmap=plt.cm.Blues, ax=ax, colorbar=False)\n",
        "ax.set_title(\"Confusion Matrix for Total Data\", fontweight='bold')\n",
        "ax.set_xlabel(\"Predicted Label\", fontweight='bold')\n",
        "ax.set_ylabel(\"True Label\", fontweight='bold')\n",
        "plt.show()"
      ],
      "metadata": {
        "colab": {
          "base_uri": "https://localhost:8080/",
          "height": 472
        },
        "id": "03ciywJCGLHW",
        "outputId": "84fdd8f5-428a-4131-99ef-2c1233888ed4"
      },
      "execution_count": 10,
      "outputs": [
        {
          "output_type": "display_data",
          "data": {
            "text/plain": [
              "<Figure size 640x480 with 1 Axes>"
            ],
            "image/png": "[encoded data removed]"
          },
          "metadata": {}
        }
      ]
    },
    {
      "cell_type": "markdown",
      "source": [
        "## Gender Difference confusion matrix\n"
      ],
      "metadata": {
        "id": "weyyi0FUWzlt"
      }
    },
    {
      "cell_type": "code",
      "source": [
        "data2 = pd.merge(thermal_data_df, personal_data_df, on='ID')\n",
        "data = pd.merge(data2, gender_df, on='ID')"
      ],
      "metadata": {
        "id": "_kijbIden543"
      },
      "execution_count": 12,
      "outputs": []
    },
    {
      "cell_type": "code",
      "source": [
        "# One-hot encode 'Cluster'\n",
        "data_with_cluster = pd.get_dummies(data, columns=['Cluster'], prefix='Cluster')\n",
        "\n",
        "# Include new cluster columns in the features list\n",
        "features_with_cluster = data_with_cluster.columns.difference(['ID', 'Sum2','Gender']).tolist()\n",
        "\n",
        "# Define the target variable\n",
        "target_with_cluster = 'Sum2'"
      ],
      "metadata": {
        "id": "dWgmzZOXn59Z"
      },
      "execution_count": 15,
      "outputs": []
    },
    {
      "cell_type": "code",
      "source": [
        "print(features_with_cluster)"
      ],
      "metadata": {
        "colab": {
          "base_uri": "https://localhost:8080/"
        },
        "id": "0f_xg2rDB1CV",
        "outputId": "55f4d9db-caa6-43d4-bd89-16c26719309f"
      },
      "execution_count": 14,
      "outputs": [
        {
          "output_type": "stream",
          "name": "stdout",
          "text": [
            "['Below Nose Maximum', 'Below Nose Maximum Slope', 'Below Nose Mean', 'Below Nose Mean Absolute Change', 'Below Nose Median', 'Below Nose Minimum', 'Below Nose Minimum Slope', 'Below Nose Standard Deviation', 'Below Nose Sum', 'Below Nose Variance', 'Between Eyes Maximum', 'Between Eyes Maximum Slope', 'Between Eyes Mean', 'Between Eyes Mean Absolute Change', 'Between Eyes Median', 'Between Eyes Minimum', 'Between Eyes Minimum Slope', 'Between Eyes Standard Deviation', 'Between Eyes Sum', 'Between Eyes Variance', 'Chin Maximum', 'Chin Maximum Slope', 'Chin Mean', 'Chin Mean Absolute Change', 'Chin Median', 'Chin Minimum', 'Chin Minimum Slope', 'Chin Standard Deviation', 'Chin Sum', 'Chin Variance', 'Cluster_0', 'Cluster_1', 'Cluster_2', 'Left Cheek Maximum', 'Left Cheek Maximum Slope', 'Left Cheek Mean', 'Left Cheek Mean Absolute Change', 'Left Cheek Median', 'Left Cheek Minimum', 'Left Cheek Minimum Slope', 'Left Cheek Standard Deviation', 'Left Cheek Sum', 'Left Cheek Variance', 'Nose Maximum', 'Nose Maximum Slope', 'Nose Mean', 'Nose Mean Absolute Change', 'Nose Median', 'Nose Minimum', 'Nose Minimum Slope', 'Nose Standard Deviation', 'Nose Sum', 'Nose Variance', 'Right Cheek Maximum', 'Right Cheek Maximum Slope', 'Right Cheek Mean', 'Right Cheek Mean Absolute Change', 'Right Cheek Median', 'Right Cheek Minimum', 'Right Cheek Minimum Slope', 'Right Cheek Standard Deviation', 'Right Cheek Sum', 'Right Cheek Variance', 'VVR1', 'VVR2']\n"
          ]
        }
      ]
    },
    {
      "cell_type": "code",
      "source": [
        "# Split the data by gender\n",
        "male_data = data_with_cluster[data_with_cluster['Gender'] == 1]\n",
        "female_data = data_with_cluster[data_with_cluster['Gender'] == 2]"
      ],
      "metadata": {
        "id": "H7fKEpKkxLS7"
      },
      "execution_count": 16,
      "outputs": []
    },
    {
      "cell_type": "code",
      "source": [
        "from sklearn.model_selection import train_test_split, StratifiedKFold\n",
        "\n",
        "def evaluate_gender_split(data_gender, features, target, gender_label):\n",
        "    # Split the data into training and test sets\n",
        "    X = data_gender[features]\n",
        "    y = data_gender[target]\n",
        "    X_train, X_test, y_train, y_test = train_test_split(X, y, test_size=0.2, random_state=42, stratify=y)\n",
        "\n",
        "    # Apply SMOTE to the training set only\n",
        "    smote = SMOTE(random_state=42)\n",
        "    X_train_smote, y_train_smote = smote.fit_resample(X_train, y_train)\n",
        "\n",
        "    # Setup the optimized XGBoost model\n",
        "    optimized_xgb_with_cluster = XGBClassifier(\n",
        "        n_estimators=100,\n",
        "        max_depth=3,\n",
        "        learning_rate=0.2,\n",
        "        subsample=0.75,\n",
        "        colsample_bytree=0.75,\n",
        "        gamma=0.1,\n",
        "        use_label_encoder=False,\n",
        "        eval_metric='logloss',\n",
        "        random_state=42\n",
        "    )\n",
        "\n",
        "    # Cross-validation\n",
        "    cv = StratifiedKFold(n_splits=5, shuffle=True, random_state=42)\n",
        "\n",
        "    # Evaluate the model using cross-validation\n",
        "    for train_index, val_index in cv.split(X_train_smote, y_train_smote):\n",
        "        X_train_fold, X_val_fold = X_train_smote.iloc[train_index], X_train_smote.iloc[val_index]\n",
        "        y_train_fold, y_val_fold = y_train_smote.iloc[train_index], y_train_smote.iloc[val_index]\n",
        "        optimized_xgb_with_cluster.fit(X_train_fold, y_train_fold)\n",
        "\n",
        "    # Train on the full training set and evaluate on the test set\n",
        "    optimized_xgb_with_cluster.fit(X_train_smote, y_train_smote)\n",
        "\n",
        "    # Predict on the test data\n",
        "    predictions = optimized_xgb_with_cluster.predict(X_test)\n",
        "\n",
        "    # Confusion matrix\n",
        "    cm = confusion_matrix(y_test, predictions, labels=[0, 1])\n",
        "    disp = ConfusionMatrixDisplay(confusion_matrix=cm, display_labels=[\"No VVR\", \"VVR\"])\n",
        "\n",
        "    # Plot the confusion matrix\n",
        "    fig, ax = plt.subplots()\n",
        "    disp.plot(cmap=plt.cm.Blues, ax=ax, colorbar=False)\n",
        "    ax.set_title(f\"Confusion Matrix for {gender_label}\", fontweight='bold')\n",
        "    ax.set_xlabel(\"Predicted Label\", fontweight='bold')\n",
        "    ax.set_ylabel(\"True Label\", fontweight='bold')\n",
        "    plt.show()\n",
        "\n",
        "# Evaluate the model for male and female donors separately\n",
        "print(\"Male Confusion Matrix:\")\n",
        "evaluate_gender_split(male_data, features_with_cluster, target_with_cluster, 'Males')\n",
        "\n",
        "print(\"Female Confusion Matrix:\")\n",
        "evaluate_gender_split(female_data, features_with_cluster, target_with_cluster, 'Females')"
      ],
      "metadata": {
        "colab": {
          "base_uri": "https://localhost:8080/",
          "height": 961
        },
        "id": "FVXw_02wz8Ej",
        "outputId": "5c0a24a9-aa64-4826-9a2a-175c2f894a91"
      },
      "execution_count": 24,
      "outputs": [
        {
          "output_type": "stream",
          "name": "stdout",
          "text": [
            "Male Confusion Matrix:\n"
          ]
        },
        {
          "output_type": "display_data",
          "data": {
            "text/plain": [
              "<Figure size 640x480 with 1 Axes>"
            ],
            "image/png": "[encoded data removed]"
          },
          "metadata": {}
        },
        {
          "output_type": "stream",
          "name": "stdout",
          "text": [
            "Female Confusion Matrix:\n"
          ]
        },
        {
          "output_type": "display_data",
          "data": {
            "text/plain": [
              "<Figure size 640x480 with 1 Axes>"
            ],
            "image/png": "[encoded data removed]"
          },
          "metadata": {}
        }
      ]
    },
    {
      "cell_type": "markdown",
      "source": [
        "## Analysis male vs female"
      ],
      "metadata": {
        "id": "c_JEcNNrCqam"
      }
    },
    {
      "cell_type": "code",
      "source": [
        "import pandas as pd\n",
        "from sklearn.model_selection import train_test_split, StratifiedKFold\n",
        "from xgboost import XGBClassifier\n",
        "from sklearn.metrics import classification_report, precision_score, recall_score, average_precision_score\n",
        "from imblearn.over_sampling import SMOTE\n",
        "import numpy as np\n",
        "\n",
        "# Load datasets\n",
        "personal_data_path = '/content/drive/My Drive/Master Thesis/FINAL_personal_data_compact3without.xlsx'\n",
        "thermal_data_path = '/content/drive/My Drive/Master Thesis/FINAL_scaled_features_df_max.xlsx'\n",
        "gender_path = '/content/drive/My Drive/Master Thesis/Gender.xlsx'\n",
        "\n",
        "personal_data_df = pd.read_excel(personal_data_path)\n",
        "thermal_data_df = pd.read_excel(thermal_data_path)\n",
        "gender_df = pd.read_excel(gender_path)\n",
        "\n",
        "# Merge datasets\n",
        "data = pd.merge(thermal_data_df, personal_data_df, on='ID')\n",
        "data = pd.merge(data, gender_df, on='ID')\n",
        "\n",
        "# One-hot encode 'Cluster'\n",
        "data_with_cluster = pd.get_dummies(data, columns=['Cluster'], prefix='Cluster')\n",
        "\n",
        "# Define features and target, excluding Gender\n",
        "features_with_cluster = data_with_cluster.columns.difference(['ID', 'Sum2', 'Gender']).tolist()\n",
        "target_with_cluster = 'Sum2'\n",
        "\n",
        "# Split the data by gender\n",
        "data_male = data_with_cluster[data_with_cluster['Gender'] == 1]\n",
        "data_female = data_with_cluster[data_with_cluster['Gender'] == 2]\n",
        "\n",
        "def evaluate_gender_split(data_gender, features, target, gender_label):\n",
        "    # Split the data into training and test sets\n",
        "    X = data_gender[features]\n",
        "    y = data_gender[target]\n",
        "\n",
        "    X_train, X_test, y_train, y_test = train_test_split(X, y, test_size=0.2, random_state=42, stratify=y)\n",
        "\n",
        "    # Apply SMOTE to the training set only\n",
        "    smote = SMOTE(random_state=42)\n",
        "    X_train_smote, y_train_smote = smote.fit_resample(X_train, y_train)\n",
        "\n",
        "    # Setup the optimized XGBoost model\n",
        "    optimized_xgb_with_cluster = XGBClassifier(\n",
        "        n_estimators=100,\n",
        "        max_depth=3,\n",
        "        learning_rate=0.2,\n",
        "        subsample=0.75,\n",
        "        colsample_bytree=0.75,\n",
        "        gamma=0.1,\n",
        "        use_label_encoder=False,\n",
        "        eval_metric='logloss',\n",
        "        random_state=42\n",
        "    )\n",
        "\n",
        "    # Cross-validation\n",
        "    cv = StratifiedKFold(n_splits=5, shuffle=True, random_state=42)\n",
        "    f1_scores = []\n",
        "\n",
        "    # Evaluate the model using cross-validation\n",
        "    for train_index, val_index in cv.split(X_train_smote, y_train_smote):\n",
        "        X_train_fold, X_val_fold = X_train_smote.iloc[train_index], X_train_smote.iloc[val_index]\n",
        "        y_train_fold, y_val_fold = y_train_smote.iloc[train_index], y_train_smote.iloc[val_index]\n",
        "\n",
        "        optimized_xgb_with_cluster.fit(X_train_fold, y_train_fold)\n",
        "\n",
        "        # Predict and evaluate\n",
        "        predictions = optimized_xgb_with_cluster.predict(X_val_fold)\n",
        "        f1 = precision_score(y_val_fold, predictions, pos_label=1)\n",
        "        f1_scores.append(f1)\n",
        "\n",
        "    print(f\"Cross-validated F1 scores for {gender_label}: {f1_scores}\")\n",
        "    print(f\"Mean F1 score for {gender_label}: {np.mean(f1_scores):.2f}\")\n",
        "\n",
        "    # Train on full training set and evaluate on test set\n",
        "    optimized_xgb_with_cluster.fit(X_train_smote, y_train_smote)\n",
        "\n",
        "    # Predict on the test data\n",
        "    predictions = optimized_xgb_with_cluster.predict(X_test)\n",
        "    probabilities = optimized_xgb_with_cluster.predict_proba(X_test)[:, 1]\n",
        "\n",
        "    print(f\"XGBoost Model Classification Report for {gender_label}:\")\n",
        "    print(classification_report(y_test, predictions, digits=2))\n",
        "\n",
        "    precision = precision_score(y_test, predictions, pos_label=1)\n",
        "    recall = recall_score(y_test, predictions, pos_label=1)\n",
        "    auc_pr = average_precision_score(y_test, probabilities)\n",
        "\n",
        "    print(f'Precision: {precision:.6f}')\n",
        "    print(f'Recall: {recall:.2f}')\n",
        "    print(f'AUC-PR: {auc_pr:.6f}')\n",
        "    print()\n",
        "\n",
        "# Evaluate the model for male and female donors separately\n",
        "evaluate_gender_split(data_male, features_with_cluster, target_with_cluster, 'Male')   # Male donors\n",
        "evaluate_gender_split(data_female, features_with_cluster, target_with_cluster, 'Female')  # Female donors"
      ],
      "metadata": {
        "colab": {
          "base_uri": "https://localhost:8080/"
        },
        "id": "Kq-uw16rqnsW",
        "outputId": "1c8ad17f-3a7d-49a0-c893-0daa0c7c108b"
      },
      "execution_count": null,
      "outputs": [
        {
          "output_type": "stream",
          "name": "stdout",
          "text": [
            "Cross-validated F1 scores for Male: [0.9333333333333333, 0.875, 0.8888888888888888, 0.8421052631578947, 0.7777777777777778]\n",
            "Mean F1 score for Male: 0.86\n",
            "XGBoost Model Classification Report for Male:\n",
            "              precision    recall  f1-score   support\n",
            "\n",
            "           0       0.84      0.80      0.82        20\n",
            "           1       0.43      0.50      0.46         6\n",
            "\n",
            "    accuracy                           0.73        26\n",
            "   macro avg       0.64      0.65      0.64        26\n",
            "weighted avg       0.75      0.73      0.74        26\n",
            "\n",
            "Precision: 0.428571\n",
            "Recall: 0.50\n",
            "AUC-PR: 0.354053\n",
            "\n",
            "Cross-validated F1 scores for Female: [0.7619047619047619, 0.6470588235294118, 0.8095238095238095, 0.8333333333333334, 0.7368421052631579]\n",
            "Mean F1 score for Female: 0.76\n",
            "XGBoost Model Classification Report for Female:\n",
            "              precision    recall  f1-score   support\n",
            "\n",
            "           0       0.84      0.73      0.78        22\n",
            "           1       0.67      0.80      0.73        15\n",
            "\n",
            "    accuracy                           0.76        37\n",
            "   macro avg       0.75      0.76      0.75        37\n",
            "weighted avg       0.77      0.76      0.76        37\n",
            "\n",
            "Precision: 0.666667\n",
            "Recall: 0.80\n",
            "AUC-PR: 0.637550\n",
            "\n"
          ]
        }
      ]
    },
    {
      "cell_type": "code",
      "source": [
        "print(features_with_cluster)"
      ],
      "metadata": {
        "colab": {
          "base_uri": "https://localhost:8080/"
        },
        "id": "4JE6AWyTDKYb",
        "outputId": "b06a244a-0db7-4c32-9c60-d5f9401b3d9e"
      },
      "execution_count": null,
      "outputs": [
        {
          "output_type": "stream",
          "name": "stdout",
          "text": [
            "['Below Nose Maximum', 'Below Nose Maximum Slope', 'Below Nose Mean', 'Below Nose Mean Absolute Change', 'Below Nose Median', 'Below Nose Minimum', 'Below Nose Minimum Slope', 'Below Nose Standard Deviation', 'Below Nose Sum', 'Below Nose Variance', 'Between Eyes Maximum', 'Between Eyes Maximum Slope', 'Between Eyes Mean', 'Between Eyes Mean Absolute Change', 'Between Eyes Median', 'Between Eyes Minimum', 'Between Eyes Minimum Slope', 'Between Eyes Standard Deviation', 'Between Eyes Sum', 'Between Eyes Variance', 'Chin Maximum', 'Chin Maximum Slope', 'Chin Mean', 'Chin Mean Absolute Change', 'Chin Median', 'Chin Minimum', 'Chin Minimum Slope', 'Chin Standard Deviation', 'Chin Sum', 'Chin Variance', 'Cluster_0', 'Cluster_1', 'Cluster_2', 'Left Cheek Maximum', 'Left Cheek Maximum Slope', 'Left Cheek Mean', 'Left Cheek Mean Absolute Change', 'Left Cheek Median', 'Left Cheek Minimum', 'Left Cheek Minimum Slope', 'Left Cheek Standard Deviation', 'Left Cheek Sum', 'Left Cheek Variance', 'Nose Maximum', 'Nose Maximum Slope', 'Nose Mean', 'Nose Mean Absolute Change', 'Nose Median', 'Nose Minimum', 'Nose Minimum Slope', 'Nose Standard Deviation', 'Nose Sum', 'Nose Variance', 'Right Cheek Maximum', 'Right Cheek Maximum Slope', 'Right Cheek Mean', 'Right Cheek Mean Absolute Change', 'Right Cheek Median', 'Right Cheek Minimum', 'Right Cheek Minimum Slope', 'Right Cheek Standard Deviation', 'Right Cheek Sum', 'Right Cheek Variance', 'VVR1', 'VVR2']\n"
          ]
        }
      ]
    },
    {
      "cell_type": "markdown",
      "source": [
        "## Figure male vs female"
      ],
      "metadata": {
        "id": "B65oHdeldlBL"
      }
    },
    {
      "cell_type": "code",
      "source": [
        "# Construct the path to the file in your Google Drive\n",
        "VVRgender_path = '/content/drive/My Drive/Master Thesis/TotalVVR.xlsx'\n",
        "\n",
        "# Load the dataset\n",
        "VVRgender_df = pd.read_excel(VVRgender_path)"
      ],
      "metadata": {
        "id": "M40-vDeQdjCn"
      },
      "execution_count": null,
      "outputs": []
    },
    {
      "cell_type": "code",
      "source": [
        "print(VVRgender_df.head)"
      ],
      "metadata": {
        "colab": {
          "base_uri": "https://localhost:8080/"
        },
        "id": "3Iw4xaYpeZcA",
        "outputId": "8cd7399a-030d-4dd4-da36-b9492c8ee26e"
      },
      "execution_count": null,
      "outputs": [
        {
          "output_type": "stream",
          "name": "stdout",
          "text": [
            "<bound method NDFrame.head of       ID  VVR  Gender\n",
            "0      5   34       2\n",
            "1      6   32       1\n",
            "2      7   77       2\n",
            "3      8   32       1\n",
            "4      9   32       1\n",
            "..   ...  ...     ...\n",
            "310  328   35       2\n",
            "311  329   35       2\n",
            "312  330   35       2\n",
            "313  331   38       2\n",
            "314  332   57       2\n",
            "\n",
            "[315 rows x 3 columns]>\n"
          ]
        }
      ]
    },
    {
      "cell_type": "code",
      "source": [
        "import matplotlib.pyplot as plt\n",
        "\n",
        "# Define the mean VVR sum score\n",
        "mean_VVR_sum = 39.40\n",
        "\n",
        "# Plot the stacked histogram\n",
        "plt.figure(figsize=(10, 7))\n",
        "\n",
        "# Define bins ranging from 32 to 84 (inclusive of 81)\n",
        "bins = range(32, 84, 3)\n",
        "plt.hist([VVRgender_df[VVRgender_df['Gender'] == 1]['VVR'], VVRgender_df[VVRgender_df['Gender'] == 2]['VVR']],\n",
        "         bins=bins, alpha=0.7, label=['Male', 'Female'], color=['blue', 'orange'], stacked=True)\n",
        "\n",
        "# Add a vertical line for the mean\n",
        "plt.axvline(mean_VVR_sum, color='red', linestyle='--', linewidth=2, label=f'Mean ({mean_VVR_sum})')\n",
        "\n",
        "# Add labels and title\n",
        "plt.xlabel('VVR Sum Score (during and post donation)')\n",
        "plt.ylabel('Number of Donors')\n",
        "plt.legend()\n",
        "\n",
        "# Show plot\n",
        "plt.show()\n"
      ],
      "metadata": {
        "colab": {
          "base_uri": "https://localhost:8080/",
          "height": 621
        },
        "id": "Ao206lu9eZf6",
        "outputId": "a87a0f03-ee55-4017-e139-25e4946321d9"
      },
      "execution_count": null,
      "outputs": [
        {
          "output_type": "display_data",
          "data": {
            "text/plain": [
              "<Figure size 1000x700 with 1 Axes>"
            ],
            "image/png": "[encoded data removed]"
          },
          "metadata": {}
        }
      ]
    },
    {
      "cell_type": "code",
      "source": [
        "# Calculate variance for male and female VVR scores\n",
        "variance_male = VVRgender_df[VVRgender_df['Gender'] == 1]['VVR'].var()\n",
        "variance_female = VVRgender_df[VVRgender_df['Gender'] == 2]['VVR'].var()\n",
        "\n",
        "print(f\"Variance of VVR scores for males: {variance_male:.2f}\")\n",
        "print(f\"Variance of VVR scores for females: {variance_female:.2f}\")"
      ],
      "metadata": {
        "colab": {
          "base_uri": "https://localhost:8080/"
        },
        "id": "QK_xUadZ2rOA",
        "outputId": "f207e87b-7c19-471e-c71c-317b1ecde7a4"
      },
      "execution_count": null,
      "outputs": [
        {
          "output_type": "stream",
          "name": "stdout",
          "text": [
            "Variance of VVR scores for males: 47.88\n",
            "Variance of VVR scores for females: 103.00\n"
          ]
        }
      ]
    }
  ]
}