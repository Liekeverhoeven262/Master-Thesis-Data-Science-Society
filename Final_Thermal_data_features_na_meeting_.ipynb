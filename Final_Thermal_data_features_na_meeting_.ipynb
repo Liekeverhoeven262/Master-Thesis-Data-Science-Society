{
  "nbformat": 4,
  "nbformat_minor": 0,
  "metadata": {
    "colab": {
      "provenance": [],
      "authorship_tag": "ABX9TyP3ZEl94AhoQ+LXT0F0VkuF",
      "include_colab_link": true
    },
    "kernelspec": {
      "name": "python3",
      "display_name": "Python 3"
    },
    "language_info": {
      "name": "python"
    }
  },
  "cells": [
    {
      "cell_type": "markdown",
      "metadata": {
        "id": "view-in-github",
        "colab_type": "text"
      },
      "source": [
        "<a href=\"https://colab.research.google.com/github/Liekeverhoeven262/Master-Thesis-Data-Science-Society/blob/main/Final_Thermal_data_features_na_meeting_.ipynb\" target=\"_parent\"><img src=\"https://colab.research.google.com/assets/colab-badge.svg\" alt=\"Open In Colab\"/></a>"
      ]
    },
    {
      "cell_type": "code",
      "execution_count": null,
      "metadata": {
        "colab": {
          "base_uri": "https://localhost:8080/"
        },
        "id": "trdszlhHR4bh",
        "outputId": "b7894cbc-bd4f-4b71-a7da-a0e8f7238d3d"
      },
      "outputs": [
        {
          "output_type": "stream",
          "name": "stdout",
          "text": [
            "Mounted at /content/drive\n"
          ]
        }
      ],
      "source": [
        "from google.colab import drive\n",
        "drive.mount('/content/drive')"
      ]
    },
    {
      "cell_type": "code",
      "source": [
        "import pandas as pd\n",
        "\n",
        "# Construct the path to the file in Google Drive\n",
        "thermal_data_path = '/content/drive/My Drive/Master Thesis/Data/FINAL Donor_temp_1-2_combined_alldata.xlsx'\n",
        "\n",
        "# Load the dataset\n",
        "thermal_data_df = pd.read_excel(thermal_data_path)"
      ],
      "metadata": {
        "id": "yi0nPS3HSF97"
      },
      "execution_count": null,
      "outputs": []
    },
    {
      "cell_type": "code",
      "source": [
        "print(thermal_data_df.columns)"
      ],
      "metadata": {
        "colab": {
          "base_uri": "https://localhost:8080/"
        },
        "id": "z0ge5BbCSGAi",
        "outputId": "d17557c8-7bdd-45a2-82ec-4aef5e2c0274"
      },
      "execution_count": null,
      "outputs": [
        {
          "output_type": "stream",
          "name": "stdout",
          "text": [
            "Index(['Column1', 'id', 'frame', 'Lcheek_mean', 'Lcheek_max', 'Lcheek_min',\n",
            "       'Lcheek_SD', 'Rcheek_mean', 'Rcheek_max', 'Rcheek_min', 'Rcheek_SD',\n",
            "       'nose_mean', 'nose_max', 'nose_min', 'nose_SD', 'chin_mean', 'chin_max',\n",
            "       'chin_min', 'chin_SD', 'below_nose_mean', 'below_nose_max',\n",
            "       'below_nose_min', 'below_nose_SD', 'between_eyes_mean',\n",
            "       'between_eyes_max', 'between_eyes_min', 'between_eyes_SD', 'new_ID'],\n",
            "      dtype='object')\n"
          ]
        }
      ]
    },
    {
      "cell_type": "code",
      "source": [
        "print(thermal_data_df.head())"
      ],
      "metadata": {
        "colab": {
          "base_uri": "https://localhost:8080/"
        },
        "id": "tKZk1lXNSGDH",
        "outputId": "156e2d94-1a4f-43c4-c81f-79e104a0b6bc"
      },
      "execution_count": null,
      "outputs": [
        {
          "output_type": "stream",
          "name": "stdout",
          "text": [
            "   Column1  id  frame  Lcheek_mean  Lcheek_max  Lcheek_min  Lcheek_SD  \\\n",
            "0   554000  51      0    30.640676   31.712024   30.028598   0.363808   \n",
            "1   554001  51      1    30.606277   31.764100   30.022389   0.339927   \n",
            "2   554002  51      2    30.617217   31.905248   30.043871   0.354779   \n",
            "3   554003  51      3    30.635621   31.874231   30.069260   0.360068   \n",
            "4   554004  51      4    30.666116   31.655146   30.085695   0.357971   \n",
            "\n",
            "   Rcheek_mean  Rcheek_max  Rcheek_min  ...   chin_SD  below_nose_mean  \\\n",
            "0    30.218893   31.217872          29  ...  0.539761        29.045254   \n",
            "1    30.109413   31.048678          29  ...  0.491207        29.060939   \n",
            "2    30.146919   31.124880          29  ...  0.505849        29.062535   \n",
            "3    29.848774   30.864203          29  ...  0.520364        29.150873   \n",
            "4    29.741137   30.961095          29  ...  0.469757        29.156711   \n",
            "\n",
            "   below_nose_max  below_nose_min  below_nose_SD  between_eyes_mean  \\\n",
            "0       29.960179            29.0       0.126231          34.454149   \n",
            "1       30.064207            29.0       0.171163          34.490599   \n",
            "2       30.330455            29.0       0.182906          34.466811   \n",
            "3       30.623838            29.0       0.331472          34.455585   \n",
            "4       30.610215            29.0       0.340642          34.401406   \n",
            "\n",
            "   between_eyes_max  between_eyes_min  between_eyes_SD  new_ID  \n",
            "0         35.772335         33.153312         0.575320       5  \n",
            "1         35.879529         32.905946         0.647004       5  \n",
            "2         35.838420         33.176536         0.572304       5  \n",
            "3         35.911023         33.384571         0.539256       5  \n",
            "4         35.858764         33.343552         0.534373       5  \n",
            "\n",
            "[5 rows x 28 columns]\n"
          ]
        }
      ]
    },
    {
      "cell_type": "code",
      "source": [
        "# Necessary imports\n",
        "!pip install tsfresh\n",
        "\n",
        "import pandas as pd\n",
        "from tsfresh import extract_features\n",
        "from tsfresh.feature_extraction import EfficientFCParameters\n",
        "from sklearn.preprocessing import StandardScaler"
      ],
      "metadata": {
        "colab": {
          "base_uri": "https://localhost:8080/"
        },
        "id": "40_DdinPSGFd",
        "outputId": "7bbca7cc-9895-41e7-b892-ae5a16b7348f"
      },
      "execution_count": null,
      "outputs": [
        {
          "output_type": "stream",
          "name": "stdout",
          "text": [
            "Requirement already satisfied: tsfresh in /usr/local/lib/python3.10/dist-packages (0.20.2)\n",
            "Requirement already satisfied: requests>=2.9.1 in /usr/local/lib/python3.10/dist-packages (from tsfresh) (2.31.0)\n",
            "Requirement already satisfied: numpy>=1.15.1 in /usr/local/lib/python3.10/dist-packages (from tsfresh) (1.25.2)\n",
            "Requirement already satisfied: pandas>=0.25.0 in /usr/local/lib/python3.10/dist-packages (from tsfresh) (2.0.3)\n",
            "Requirement already satisfied: scipy>=1.2.0 in /usr/local/lib/python3.10/dist-packages (from tsfresh) (1.11.4)\n",
            "Requirement already satisfied: statsmodels>=0.13 in /usr/local/lib/python3.10/dist-packages (from tsfresh) (0.14.2)\n",
            "Requirement already satisfied: patsy>=0.4.1 in /usr/local/lib/python3.10/dist-packages (from tsfresh) (0.5.6)\n",
            "Requirement already satisfied: scikit-learn>=0.22.0 in /usr/local/lib/python3.10/dist-packages (from tsfresh) (1.2.2)\n",
            "Requirement already satisfied: tqdm>=4.10.0 in /usr/local/lib/python3.10/dist-packages (from tsfresh) (4.66.2)\n",
            "Requirement already satisfied: stumpy>=1.7.2 in /usr/local/lib/python3.10/dist-packages (from tsfresh) (1.12.0)\n",
            "Requirement already satisfied: cloudpickle in /usr/local/lib/python3.10/dist-packages (from tsfresh) (2.2.1)\n",
            "Requirement already satisfied: python-dateutil>=2.8.2 in /usr/local/lib/python3.10/dist-packages (from pandas>=0.25.0->tsfresh) (2.8.2)\n",
            "Requirement already satisfied: pytz>=2020.1 in /usr/local/lib/python3.10/dist-packages (from pandas>=0.25.0->tsfresh) (2023.4)\n",
            "Requirement already satisfied: tzdata>=2022.1 in /usr/local/lib/python3.10/dist-packages (from pandas>=0.25.0->tsfresh) (2024.1)\n",
            "Requirement already satisfied: six in /usr/local/lib/python3.10/dist-packages (from patsy>=0.4.1->tsfresh) (1.16.0)\n",
            "Requirement already satisfied: charset-normalizer<4,>=2 in /usr/local/lib/python3.10/dist-packages (from requests>=2.9.1->tsfresh) (3.3.2)\n",
            "Requirement already satisfied: idna<4,>=2.5 in /usr/local/lib/python3.10/dist-packages (from requests>=2.9.1->tsfresh) (3.7)\n",
            "Requirement already satisfied: urllib3<3,>=1.21.1 in /usr/local/lib/python3.10/dist-packages (from requests>=2.9.1->tsfresh) (2.0.7)\n",
            "Requirement already satisfied: certifi>=2017.4.17 in /usr/local/lib/python3.10/dist-packages (from requests>=2.9.1->tsfresh) (2024.2.2)\n",
            "Requirement already satisfied: joblib>=1.1.1 in /usr/local/lib/python3.10/dist-packages (from scikit-learn>=0.22.0->tsfresh) (1.4.0)\n",
            "Requirement already satisfied: threadpoolctl>=2.0.0 in /usr/local/lib/python3.10/dist-packages (from scikit-learn>=0.22.0->tsfresh) (3.4.0)\n",
            "Requirement already satisfied: packaging>=21.3 in /usr/local/lib/python3.10/dist-packages (from statsmodels>=0.13->tsfresh) (24.0)\n",
            "Requirement already satisfied: numba>=0.55.2 in /usr/local/lib/python3.10/dist-packages (from stumpy>=1.7.2->tsfresh) (0.58.1)\n",
            "Requirement already satisfied: llvmlite<0.42,>=0.41.0dev0 in /usr/local/lib/python3.10/dist-packages (from numba>=0.55.2->stumpy>=1.7.2->tsfresh) (0.41.1)\n"
          ]
        }
      ]
    },
    {
      "cell_type": "code",
      "source": [
        "thermal_data_long_format = pd.melt(thermal_data_df, id_vars=['new_ID', 'frame'],\n",
        "                                   var_name='measurement', value_name='value',\n",
        "                                   value_vars=['Lcheek_mean', 'Lcheek_max', 'Lcheek_min', 'Lcheek_SD',\n",
        "                                               'Rcheek_mean', 'Rcheek_max', 'Rcheek_min', 'Rcheek_SD',\n",
        "                                               'nose_mean', 'nose_max', 'nose_min', 'nose_SD',\n",
        "                                               'chin_mean', 'chin_max', 'chin_min', 'chin_SD',\n",
        "                                               'below_nose_mean', 'below_nose_max', 'below_nose_min', 'below_nose_SD',\n",
        "                                               'between_eyes_mean', 'between_eyes_max', 'between_eyes_min', 'between_eyes_SD'])"
      ],
      "metadata": {
        "id": "OL9Z0xyTSGIV"
      },
      "execution_count": null,
      "outputs": []
    },
    {
      "cell_type": "code",
      "source": [
        "print(thermal_data_long_format.head())"
      ],
      "metadata": {
        "colab": {
          "base_uri": "https://localhost:8080/"
        },
        "id": "U9nu4aqtSdEm",
        "outputId": "7fe906d6-1de3-426d-c139-77c65ad3dd6e"
      },
      "execution_count": null,
      "outputs": [
        {
          "output_type": "stream",
          "name": "stdout",
          "text": [
            "   new_ID  frame  measurement      value\n",
            "0       5      0  Lcheek_mean  30.640676\n",
            "1       5      1  Lcheek_mean  30.606277\n",
            "2       5      2  Lcheek_mean  30.617217\n",
            "3       5      3  Lcheek_mean  30.635621\n",
            "4       5      4  Lcheek_mean  30.666116\n"
          ]
        }
      ]
    },
    {
      "cell_type": "code",
      "source": [
        "!pip install tsfresh\n",
        "from tsfresh import extract_features"
      ],
      "metadata": {
        "colab": {
          "base_uri": "https://localhost:8080/"
        },
        "id": "hInmv7hJSdH0",
        "outputId": "f995107e-66a3-44e9-9dc6-36c66698b1f2"
      },
      "execution_count": null,
      "outputs": [
        {
          "output_type": "stream",
          "name": "stdout",
          "text": [
            "Requirement already satisfied: tsfresh in /usr/local/lib/python3.10/dist-packages (0.20.2)\n",
            "Requirement already satisfied: requests>=2.9.1 in /usr/local/lib/python3.10/dist-packages (from tsfresh) (2.31.0)\n",
            "Requirement already satisfied: numpy>=1.15.1 in /usr/local/lib/python3.10/dist-packages (from tsfresh) (1.25.2)\n",
            "Requirement already satisfied: pandas>=0.25.0 in /usr/local/lib/python3.10/dist-packages (from tsfresh) (2.0.3)\n",
            "Requirement already satisfied: scipy>=1.2.0 in /usr/local/lib/python3.10/dist-packages (from tsfresh) (1.11.4)\n",
            "Requirement already satisfied: statsmodels>=0.13 in /usr/local/lib/python3.10/dist-packages (from tsfresh) (0.14.2)\n",
            "Requirement already satisfied: patsy>=0.4.1 in /usr/local/lib/python3.10/dist-packages (from tsfresh) (0.5.6)\n",
            "Requirement already satisfied: scikit-learn>=0.22.0 in /usr/local/lib/python3.10/dist-packages (from tsfresh) (1.2.2)\n",
            "Requirement already satisfied: tqdm>=4.10.0 in /usr/local/lib/python3.10/dist-packages (from tsfresh) (4.66.2)\n",
            "Requirement already satisfied: stumpy>=1.7.2 in /usr/local/lib/python3.10/dist-packages (from tsfresh) (1.12.0)\n",
            "Requirement already satisfied: cloudpickle in /usr/local/lib/python3.10/dist-packages (from tsfresh) (2.2.1)\n",
            "Requirement already satisfied: python-dateutil>=2.8.2 in /usr/local/lib/python3.10/dist-packages (from pandas>=0.25.0->tsfresh) (2.8.2)\n",
            "Requirement already satisfied: pytz>=2020.1 in /usr/local/lib/python3.10/dist-packages (from pandas>=0.25.0->tsfresh) (2023.4)\n",
            "Requirement already satisfied: tzdata>=2022.1 in /usr/local/lib/python3.10/dist-packages (from pandas>=0.25.0->tsfresh) (2024.1)\n",
            "Requirement already satisfied: six in /usr/local/lib/python3.10/dist-packages (from patsy>=0.4.1->tsfresh) (1.16.0)\n",
            "Requirement already satisfied: charset-normalizer<4,>=2 in /usr/local/lib/python3.10/dist-packages (from requests>=2.9.1->tsfresh) (3.3.2)\n",
            "Requirement already satisfied: idna<4,>=2.5 in /usr/local/lib/python3.10/dist-packages (from requests>=2.9.1->tsfresh) (3.7)\n",
            "Requirement already satisfied: urllib3<3,>=1.21.1 in /usr/local/lib/python3.10/dist-packages (from requests>=2.9.1->tsfresh) (2.0.7)\n",
            "Requirement already satisfied: certifi>=2017.4.17 in /usr/local/lib/python3.10/dist-packages (from requests>=2.9.1->tsfresh) (2024.2.2)\n",
            "Requirement already satisfied: joblib>=1.1.1 in /usr/local/lib/python3.10/dist-packages (from scikit-learn>=0.22.0->tsfresh) (1.4.0)\n",
            "Requirement already satisfied: threadpoolctl>=2.0.0 in /usr/local/lib/python3.10/dist-packages (from scikit-learn>=0.22.0->tsfresh) (3.4.0)\n",
            "Requirement already satisfied: packaging>=21.3 in /usr/local/lib/python3.10/dist-packages (from statsmodels>=0.13->tsfresh) (24.0)\n",
            "Requirement already satisfied: numba>=0.55.2 in /usr/local/lib/python3.10/dist-packages (from stumpy>=1.7.2->tsfresh) (0.58.1)\n",
            "Requirement already satisfied: llvmlite<0.42,>=0.41.0dev0 in /usr/local/lib/python3.10/dist-packages (from numba>=0.55.2->stumpy>=1.7.2->tsfresh) (0.41.1)\n"
          ]
        }
      ]
    },
    {
      "cell_type": "code",
      "source": [
        "from tsfresh.feature_extraction import ComprehensiveFCParameters\n",
        "\n",
        "# Specificeer de gewenste kenmerken\n",
        "settings = {\n",
        "    'sum_values': {},\n",
        "    'variance': {},\n",
        "    'standard_deviation': {},\n",
        "    'maximum': {},\n",
        "    'minimum': {},\n",
        "    'median': {},\n",
        "    'mean': {},\n",
        "    'mean_abs_change': {},  #proxy voor gemiddelde van de wortel van de kwadraten als 'mean root square' niet direct beschikbaar is\n",
        "    'agg_linear_trend': [{'attr': 'slope', 'f_agg': 'max', 'chunk_len': 5}, {'attr': 'slope', 'f_agg': 'min', 'chunk_len': 5}]  #maximale en minimale helling\n",
        "}\n",
        "\n",
        "# Extract features met aangepaste instellingen\n",
        "extracted_features_thermal = extract_features(\n",
        "    thermal_data_long_format,\n",
        "    column_id='new_ID',  # Identifies the time series\n",
        "    column_sort='frame',  # Orders the time points\n",
        "    column_kind='measurement',  # Distinguishes between different variables if necessary\n",
        "    column_value='value',  # The actual measurements\n",
        "    default_fc_parameters=settings\n",
        ")\n"
      ],
      "metadata": {
        "colab": {
          "base_uri": "https://localhost:8080/"
        },
        "id": "jMUfK15mSC1N",
        "outputId": "3df1c3ac-3335-4804-fb76-a1c6ca684930"
      },
      "execution_count": null,
      "outputs": [
        {
          "output_type": "stream",
          "name": "stderr",
          "text": [
            "Feature Extraction: 100%|██████████| 7560/7560 [00:29<00:00, 252.10it/s]\n"
          ]
        }
      ]
    },
    {
      "cell_type": "code",
      "source": [
        "print(extracted_features_thermal.head)"
      ],
      "metadata": {
        "colab": {
          "base_uri": "https://localhost:8080/"
        },
        "id": "8nwW2y7vZCCl",
        "outputId": "30302d29-a77e-4f4a-8392-9bd8db9bf6ee"
      },
      "execution_count": null,
      "outputs": [
        {
          "output_type": "stream",
          "name": "stdout",
          "text": [
            "<bound method NDFrame.head of      Lcheek_SD__sum_values  Lcheek_SD__variance  \\\n",
            "5               772.069580             0.003806   \n",
            "6               655.435201             0.100685   \n",
            "7              1037.552316             0.015201   \n",
            "8              1153.370286             0.010503   \n",
            "9               847.326552             0.007993   \n",
            "..                     ...                  ...   \n",
            "328            1159.684945             0.016779   \n",
            "329            1264.980985             0.011032   \n",
            "330            1894.346580             0.371935   \n",
            "331            1239.201562             0.338281   \n",
            "332            1002.316495             0.007785   \n",
            "\n",
            "     Lcheek_SD__standard_deviation  Lcheek_SD__maximum  Lcheek_SD__minimum  \\\n",
            "5                         0.061690            1.097606            0.000000   \n",
            "6                         0.317309            2.008581            0.000000   \n",
            "7                         0.123292            1.266641            0.301583   \n",
            "8                         0.102486            1.575106            0.123719   \n",
            "9                         0.089401            2.179848            0.318822   \n",
            "..                             ...                 ...                 ...   \n",
            "328                       0.129535            1.970000            0.030042   \n",
            "329                       0.105033            0.988834            0.016233   \n",
            "330                       0.609864            3.511071            0.000000   \n",
            "331                       0.581620            4.231719            0.045466   \n",
            "332                       0.088233            1.221034            0.024563   \n",
            "\n",
            "     Lcheek_SD__median  Lcheek_SD__mean  Lcheek_SD__mean_abs_change  \\\n",
            "5             0.370988         0.386035                    0.017382   \n",
            "6             0.232295         0.327718                    0.029991   \n",
            "7             0.513720         0.518776                    0.024360   \n",
            "8             0.571726         0.576685                    0.031394   \n",
            "9             0.415843         0.423663                    0.019347   \n",
            "..                 ...              ...                         ...   \n",
            "328           0.574245         0.579842                    0.017196   \n",
            "329           0.605686         0.632490                    0.023095   \n",
            "330           0.470044         0.947173                    0.048667   \n",
            "331           0.419633         0.619601                    0.140168   \n",
            "332           0.520125         0.501158                    0.017662   \n",
            "\n",
            "     Lcheek_SD__agg_linear_trend__attr_\"slope\"__chunk_len_5__f_agg_\"max\"  \\\n",
            "5                                            -0.000263                     \n",
            "6                                             0.001077                     \n",
            "7                                            -0.000727                     \n",
            "8                                            -0.000073                     \n",
            "9                                             0.000187                     \n",
            "..                                                 ...                     \n",
            "328                                          -0.000611                     \n",
            "329                                           0.000275                     \n",
            "330                                          -0.003913                     \n",
            "331                                          -0.000781                     \n",
            "332                                          -0.000164                     \n",
            "\n",
            "     Lcheek_SD__agg_linear_trend__attr_\"slope\"__chunk_len_5__f_agg_\"min\"  ...  \\\n",
            "5                                            -0.000108                    ...   \n",
            "6                                             0.000543                    ...   \n",
            "7                                            -0.000702                    ...   \n",
            "8                                            -0.000195                    ...   \n",
            "9                                             0.000073                    ...   \n",
            "..                                                 ...                    ...   \n",
            "328                                          -0.000477                    ...   \n",
            "329                                           0.000327                    ...   \n",
            "330                                          -0.003336                    ...   \n",
            "331                                          -0.000016                    ...   \n",
            "332                                          -0.000221                    ...   \n",
            "\n",
            "     nose_min__sum_values  nose_min__variance  nose_min__standard_deviation  \\\n",
            "5            58000.000000            0.000000                      0.000000   \n",
            "6            66218.778620            2.871636                      1.694590   \n",
            "7            58000.000000            0.000000                      0.000000   \n",
            "8            58129.924101            0.176348                      0.419938   \n",
            "9            58018.516737            0.034393                      0.185454   \n",
            "..                    ...                 ...                           ...   \n",
            "328          53325.168433            0.526373                      0.725516   \n",
            "329          63875.291874           12.071200                      3.474363   \n",
            "330          51214.942085            0.384704                      0.620245   \n",
            "331          49457.904259            4.069150                      2.017213   \n",
            "332          64547.560577            1.676618                      1.294843   \n",
            "\n",
            "     nose_min__maximum  nose_min__minimum  nose_min__median  nose_min__mean  \\\n",
            "5            29.000000          29.000000         29.000000       29.000000   \n",
            "6            35.339796          29.000000         32.383241       33.109389   \n",
            "7            29.000000          29.000000         29.000000       29.000000   \n",
            "8            33.342642          29.000000         29.000000       29.064962   \n",
            "9            33.177709          29.000000         29.000000       29.009258   \n",
            "..                 ...                ...               ...             ...   \n",
            "328          30.681504          20.000000         26.725899       26.662584   \n",
            "329          33.901981          20.000000         32.921572       31.937646   \n",
            "330          32.513678          20.000000         25.624697       25.607471   \n",
            "331          33.516392          21.131281         24.452346       24.728952   \n",
            "332          34.195958          20.000000         32.440361       32.273780   \n",
            "\n",
            "     nose_min__mean_abs_change  \\\n",
            "5                     0.000000   \n",
            "6                     0.115823   \n",
            "7                     0.000000   \n",
            "8                     0.079955   \n",
            "9                     0.018526   \n",
            "..                         ...   \n",
            "328                   0.278583   \n",
            "329                   1.226056   \n",
            "330                   0.258107   \n",
            "331                   0.819512   \n",
            "332                   0.155302   \n",
            "\n",
            "     nose_min__agg_linear_trend__attr_\"slope\"__chunk_len_5__f_agg_\"max\"  \\\n",
            "5                                             0.000000                    \n",
            "6                                             0.011388                    \n",
            "7                                             0.000000                    \n",
            "8                                             0.001166                    \n",
            "9                                             0.000183                    \n",
            "..                                                 ...                    \n",
            "328                                          -0.000989                    \n",
            "329                                          -0.000026                    \n",
            "330                                           0.000657                    \n",
            "331                                          -0.001035                    \n",
            "332                                           0.006006                    \n",
            "\n",
            "     nose_min__agg_linear_trend__attr_\"slope\"__chunk_len_5__f_agg_\"min\"  \n",
            "5                                             0.000000                   \n",
            "6                                             0.012222                   \n",
            "7                                             0.000000                   \n",
            "8                                             0.000032                   \n",
            "9                                             0.000000                   \n",
            "..                                                 ...                   \n",
            "328                                          -0.001638                   \n",
            "329                                          -0.005575                   \n",
            "330                                           0.001133                   \n",
            "331                                           0.001848                   \n",
            "332                                           0.005947                   \n",
            "\n",
            "[315 rows x 240 columns]>\n"
          ]
        }
      ]
    },
    {
      "cell_type": "code",
      "source": [],
      "metadata": {
        "id": "nOlss8q2-T58"
      },
      "execution_count": null,
      "outputs": []
    },
    {
      "cell_type": "code",
      "source": [
        "import pandas as pd\n",
        "from tsfresh import extract_features\n",
        "from tsfresh.feature_extraction.settings import ComprehensiveFCParameters\n",
        "\n",
        "# Specificeer de kolommen die gebruikt zullen worden voor feature extractie\n",
        "max_columns = ['Lcheek_max', 'Rcheek_max', 'nose_max', 'chin_max', 'below_nose_max', 'between_eyes_max']\n",
        "\n",
        "# Beperk de data tot alleen de maximale waarde kolommen en nieuwe ID en frame kolommen\n",
        "selected_data_max = thermal_data_df[['new_ID', 'frame'] + max_columns]\n",
        "\n",
        "# Zet de data om naar een lange formaat die nodig is voor tsfresh\n",
        "thermal_data_long_format_max = pd.melt(selected_data_max, id_vars=['new_ID', 'frame'], var_name='measurement', value_name='value')"
      ],
      "metadata": {
        "id": "1zQoCSpu-T_e"
      },
      "execution_count": null,
      "outputs": []
    },
    {
      "cell_type": "code",
      "source": [
        "# Specificeer de gewenste kenmerken\n",
        "settings = {\n",
        "    'sum_values': {},\n",
        "    'variance': {},\n",
        "    'standard_deviation': {},\n",
        "    'maximum': {},\n",
        "    'minimum': {},\n",
        "    'median': {},\n",
        "    'mean': {},\n",
        "    'mean_abs_change': {},  #proxy voor gemiddelde van de wortel van de kwadraten als 'mean root square' niet direct beschikbaar is\n",
        "    'agg_linear_trend': [{'attr': 'slope', 'f_agg': 'max', 'chunk_len': 5}, {'attr': 'slope', 'f_agg': 'min', 'chunk_len': 5}]  #maximale en minimale helling\n",
        "}\n",
        "\n",
        "# Extract features met aangepaste instellingen\n",
        "extracted_features_thermal_max = extract_features(\n",
        "    thermal_data_long_format_max,\n",
        "    column_id='new_ID',  # Identifies the time series\n",
        "    column_sort='frame',  # Orders the time points\n",
        "    column_kind='measurement',  # Distinguishes between different variables if necessary\n",
        "    column_value='value',  # The actual measurements\n",
        "    default_fc_parameters=settings\n",
        ")\n",
        "\n",
        "# Print de eerste paar rijen van de geëxtraheerde features\n",
        "print(extracted_features_thermal_max.head())"
      ],
      "metadata": {
        "colab": {
          "base_uri": "https://localhost:8080/"
        },
        "id": "uPnWO5hW-UCV",
        "outputId": "18d33fd7-c763-4d20-a411-8ceadd2fc2b7"
      },
      "execution_count": null,
      "outputs": [
        {
          "output_type": "stream",
          "name": "stderr",
          "text": [
            "Feature Extraction: 100%|██████████| 1890/1890 [00:06<00:00, 290.26it/s]"
          ]
        },
        {
          "output_type": "stream",
          "name": "stdout",
          "text": [
            "   Lcheek_max__sum_values  Lcheek_max__variance  \\\n",
            "5            63483.725145              0.069797   \n",
            "6            67760.664591              4.716391   \n",
            "7            64367.174539              0.150754   \n",
            "8            66154.629752              0.319300   \n",
            "9            65579.174686              0.069532   \n",
            "\n",
            "   Lcheek_max__standard_deviation  Lcheek_max__maximum  Lcheek_max__minimum  \\\n",
            "5                        0.264192            34.166066            29.000000   \n",
            "6                        2.171725            35.879672            29.000000   \n",
            "7                        0.388271            35.458321            31.356972   \n",
            "8                        0.565067            35.236081            31.707598   \n",
            "9                        0.263689            35.297588            32.362656   \n",
            "\n",
            "   Lcheek_max__median  Lcheek_max__mean  Lcheek_max__mean_abs_change  \\\n",
            "5           31.700541         31.741863                     0.095093   \n",
            "6           35.278018         33.880332                     0.149467   \n",
            "7           32.137037         32.183587                     0.148614   \n",
            "8           32.939297         33.077315                     0.100736   \n",
            "9           32.750331         32.789587                     0.069553   \n",
            "\n",
            "   Lcheek_max__agg_linear_trend__attr_\"slope\"__chunk_len_5__f_agg_\"max\"  \\\n",
            "5                                          -0.001258                      \n",
            "6                                          -0.009446                      \n",
            "7                                          -0.000210                      \n",
            "8                                           0.003707                      \n",
            "9                                           0.000749                      \n",
            "\n",
            "   Lcheek_max__agg_linear_trend__attr_\"slope\"__chunk_len_5__f_agg_\"min\"  ...  \\\n",
            "5                                          -0.000882                     ...   \n",
            "6                                          -0.012219                     ...   \n",
            "7                                          -0.000274                     ...   \n",
            "8                                           0.003379                     ...   \n",
            "9                                           0.000742                     ...   \n",
            "\n",
            "   nose_max__sum_values  nose_max__variance  nose_max__standard_deviation  \\\n",
            "5          58020.782194            0.015237                      0.123439   \n",
            "6          69357.523727            0.905356                      0.951502   \n",
            "7          58424.930662            0.181000                      0.425440   \n",
            "8          62522.431119            0.750745                      0.866456   \n",
            "9          61149.130458            0.272898                      0.522396   \n",
            "\n",
            "   nose_max__maximum  nose_max__minimum  nose_max__median  nose_max__mean  \\\n",
            "5          31.902261          29.000000         29.000000       29.010391   \n",
            "6          36.382971          30.815062         34.598738       34.678762   \n",
            "7          33.865937          29.000000         29.000000       29.212465   \n",
            "8          34.992103          29.000000         31.240648       31.261216   \n",
            "9          34.029117          29.000000         30.541474       30.574565   \n",
            "\n",
            "   nose_max__mean_abs_change  \\\n",
            "5                   0.014770   \n",
            "6                   0.087175   \n",
            "7                   0.122759   \n",
            "8                   0.237755   \n",
            "9                   0.218577   \n",
            "\n",
            "   nose_max__agg_linear_trend__attr_\"slope\"__chunk_len_5__f_agg_\"max\"  \\\n",
            "5                                          -0.000361                    \n",
            "6                                           0.006661                    \n",
            "7                                          -0.001460                    \n",
            "8                                           0.004776                    \n",
            "9                                          -0.001944                    \n",
            "\n",
            "   nose_max__agg_linear_trend__attr_\"slope\"__chunk_len_5__f_agg_\"min\"  \n",
            "5                                           0.000000                   \n",
            "6                                           0.006846                   \n",
            "7                                          -0.000369                   \n",
            "8                                           0.004967                   \n",
            "9                                          -0.002201                   \n",
            "\n",
            "[5 rows x 60 columns]\n"
          ]
        },
        {
          "output_type": "stream",
          "name": "stderr",
          "text": [
            "\n"
          ]
        }
      ]
    },
    {
      "cell_type": "code",
      "source": [
        "# Controleer op NaN-waarden in de dataset\n",
        "nan_counts = extracted_features_thermal_max.isna().sum()\n",
        "\n",
        "# Print het aantal NaN-waarden per kolom\n",
        "print(nan_counts)"
      ],
      "metadata": {
        "colab": {
          "base_uri": "https://localhost:8080/"
        },
        "id": "lpY4FeubdKGN",
        "outputId": "de84209b-5b7c-4ebb-920d-5ef01177cc20"
      },
      "execution_count": null,
      "outputs": [
        {
          "output_type": "stream",
          "name": "stdout",
          "text": [
            "Lcheek_max__sum_values                                                        0\n",
            "Lcheek_max__variance                                                          0\n",
            "Lcheek_max__standard_deviation                                                0\n",
            "Lcheek_max__maximum                                                           0\n",
            "Lcheek_max__minimum                                                           0\n",
            "Lcheek_max__median                                                            0\n",
            "Lcheek_max__mean                                                              0\n",
            "Lcheek_max__mean_abs_change                                                   0\n",
            "Lcheek_max__agg_linear_trend__attr_\"slope\"__chunk_len_5__f_agg_\"max\"          0\n",
            "Lcheek_max__agg_linear_trend__attr_\"slope\"__chunk_len_5__f_agg_\"min\"          0\n",
            "Rcheek_max__sum_values                                                        0\n",
            "Rcheek_max__variance                                                          0\n",
            "Rcheek_max__standard_deviation                                                0\n",
            "Rcheek_max__maximum                                                           0\n",
            "Rcheek_max__minimum                                                           0\n",
            "Rcheek_max__median                                                            0\n",
            "Rcheek_max__mean                                                              0\n",
            "Rcheek_max__mean_abs_change                                                   0\n",
            "Rcheek_max__agg_linear_trend__attr_\"slope\"__chunk_len_5__f_agg_\"max\"          0\n",
            "Rcheek_max__agg_linear_trend__attr_\"slope\"__chunk_len_5__f_agg_\"min\"          0\n",
            "below_nose_max__sum_values                                                    0\n",
            "below_nose_max__variance                                                      0\n",
            "below_nose_max__standard_deviation                                            0\n",
            "below_nose_max__maximum                                                       0\n",
            "below_nose_max__minimum                                                       0\n",
            "below_nose_max__median                                                        0\n",
            "below_nose_max__mean                                                          0\n",
            "below_nose_max__mean_abs_change                                               0\n",
            "below_nose_max__agg_linear_trend__attr_\"slope\"__chunk_len_5__f_agg_\"max\"      0\n",
            "below_nose_max__agg_linear_trend__attr_\"slope\"__chunk_len_5__f_agg_\"min\"      0\n",
            "between_eyes_max__sum_values                                                  0\n",
            "between_eyes_max__variance                                                    0\n",
            "between_eyes_max__standard_deviation                                          0\n",
            "between_eyes_max__maximum                                                     0\n",
            "between_eyes_max__minimum                                                     0\n",
            "between_eyes_max__median                                                      0\n",
            "between_eyes_max__mean                                                        0\n",
            "between_eyes_max__mean_abs_change                                             0\n",
            "between_eyes_max__agg_linear_trend__attr_\"slope\"__chunk_len_5__f_agg_\"max\"    0\n",
            "between_eyes_max__agg_linear_trend__attr_\"slope\"__chunk_len_5__f_agg_\"min\"    0\n",
            "chin_max__sum_values                                                          0\n",
            "chin_max__variance                                                            0\n",
            "chin_max__standard_deviation                                                  0\n",
            "chin_max__maximum                                                             0\n",
            "chin_max__minimum                                                             0\n",
            "chin_max__median                                                              0\n",
            "chin_max__mean                                                                0\n",
            "chin_max__mean_abs_change                                                     0\n",
            "chin_max__agg_linear_trend__attr_\"slope\"__chunk_len_5__f_agg_\"max\"            0\n",
            "chin_max__agg_linear_trend__attr_\"slope\"__chunk_len_5__f_agg_\"min\"            0\n",
            "nose_max__sum_values                                                          0\n",
            "nose_max__variance                                                            0\n",
            "nose_max__standard_deviation                                                  0\n",
            "nose_max__maximum                                                             0\n",
            "nose_max__minimum                                                             0\n",
            "nose_max__median                                                              0\n",
            "nose_max__mean                                                                0\n",
            "nose_max__mean_abs_change                                                     0\n",
            "nose_max__agg_linear_trend__attr_\"slope\"__chunk_len_5__f_agg_\"max\"            0\n",
            "nose_max__agg_linear_trend__attr_\"slope\"__chunk_len_5__f_agg_\"min\"            0\n",
            "dtype: int64\n"
          ]
        }
      ]
    },
    {
      "cell_type": "code",
      "source": [
        "from sklearn.preprocessing import StandardScaler\n",
        "\n",
        "# Initialiseer de scaler\n",
        "scaler = StandardScaler()\n",
        "\n",
        "# Fit en transformeer de geëxtraheerde features\n",
        "scaled_features = scaler.fit_transform(extracted_features_thermal_max)\n",
        "\n",
        "# Optioneel: Converteer terug naar DataFrame voor betere leesbaarheid en verdere analyse\n",
        "scaled_features_df_max = pd.DataFrame(scaled_features, columns=extracted_features_thermal_max.columns, index=extracted_features_thermal_max.index)\n",
        "\n",
        "# Print de eerste paar rijen van de geschaalde gegevens\n",
        "print(scaled_features_df_max.head())"
      ],
      "metadata": {
        "colab": {
          "base_uri": "https://localhost:8080/"
        },
        "id": "DHfxuS0zFg9P",
        "outputId": "a5e84066-0311-42bd-eed1-fe1ae38db706"
      },
      "execution_count": null,
      "outputs": [
        {
          "output_type": "stream",
          "name": "stdout",
          "text": [
            "   Lcheek_max__sum_values  Lcheek_max__variance  \\\n",
            "5               -1.509652             -0.346338   \n",
            "6                0.077904              3.674402   \n",
            "7               -1.181725             -0.276285   \n",
            "8               -0.518240             -0.130441   \n",
            "9               -0.731843             -0.346568   \n",
            "\n",
            "   Lcheek_max__standard_deviation  Lcheek_max__maximum  Lcheek_max__minimum  \\\n",
            "5                       -0.847815            -1.557688             0.705222   \n",
            "6                        4.314207             0.727107             0.705222   \n",
            "7                       -0.512042             0.165308             1.500742   \n",
            "8                       -0.033610            -0.131010             1.619084   \n",
            "9                       -0.849175            -0.049000             1.840177   \n",
            "\n",
            "   Lcheek_max__median  Lcheek_max__mean  Lcheek_max__mean_abs_change  \\\n",
            "5           -2.141693         -2.135936                    -0.362130   \n",
            "6            1.416444          0.051032                     0.330383   \n",
            "7           -1.707558         -1.684194                     0.319521   \n",
            "8           -0.909635         -0.770197                    -0.290267   \n",
            "9           -1.097579         -1.064450                    -0.687407   \n",
            "\n",
            "   Lcheek_max__agg_linear_trend__attr_\"slope\"__chunk_len_5__f_agg_\"max\"  \\\n",
            "5                                          -0.615915                      \n",
            "6                                          -4.507184                      \n",
            "7                                          -0.117677                      \n",
            "8                                           1.743989                      \n",
            "9                                           0.338135                      \n",
            "\n",
            "   Lcheek_max__agg_linear_trend__attr_\"slope\"__chunk_len_5__f_agg_\"min\"  ...  \\\n",
            "5                                          -0.367590                     ...   \n",
            "6                                          -5.299985                     ...   \n",
            "7                                          -0.102681                     ...   \n",
            "8                                           1.486402                     ...   \n",
            "9                                           0.339397                     ...   \n",
            "\n",
            "   nose_max__sum_values  nose_max__variance  nose_max__standard_deviation  \\\n",
            "5             -1.880844           -0.612846                     -1.483300   \n",
            "6              1.058858           -0.021964                      0.231355   \n",
            "7             -1.776045           -0.502809                     -0.857952   \n",
            "8             -0.713533           -0.124598                      0.055250   \n",
            "9             -1.069640           -0.441805                     -0.657188   \n",
            "\n",
            "   nose_max__maximum  nose_max__minimum  nose_max__median  nose_max__mean  \\\n",
            "5          -3.429708           0.863518         -2.147388       -2.190211   \n",
            "6           1.410353           1.489794          1.085038        1.186347   \n",
            "7          -1.308546           0.863518         -2.147388       -2.069839   \n",
            "8          -0.092063           0.863518         -0.853751       -0.849431   \n",
            "9          -1.132280           0.863518         -1.257419       -1.258458   \n",
            "\n",
            "   nose_max__mean_abs_change  \\\n",
            "5                  -1.628149   \n",
            "6                  -1.120725   \n",
            "7                  -0.871348   \n",
            "8                  -0.065441   \n",
            "9                  -0.199844   \n",
            "\n",
            "   nose_max__agg_linear_trend__attr_\"slope\"__chunk_len_5__f_agg_\"max\"  \\\n",
            "5                                           0.254451                    \n",
            "6                                           2.267801                    \n",
            "7                                          -0.060503                    \n",
            "8                                           1.727514                    \n",
            "9                                          -0.199410                    \n",
            "\n",
            "   nose_max__agg_linear_trend__attr_\"slope\"__chunk_len_5__f_agg_\"min\"  \n",
            "5                                           0.395055                   \n",
            "6                                           2.164604                   \n",
            "7                                           0.299572                   \n",
            "8                                           1.678995                   \n",
            "9                                          -0.173840                   \n",
            "\n",
            "[5 rows x 60 columns]\n"
          ]
        }
      ]
    },
    {
      "cell_type": "code",
      "source": [
        "print(scaled_features_df_max.columns)"
      ],
      "metadata": {
        "colab": {
          "base_uri": "https://localhost:8080/"
        },
        "id": "DZ4PfCOAFhF2",
        "outputId": "c9542bfe-23ea-4b87-b72f-011b02b2d211"
      },
      "execution_count": null,
      "outputs": [
        {
          "output_type": "stream",
          "name": "stdout",
          "text": [
            "Index(['Lcheek_max__sum_values', 'Lcheek_max__variance',\n",
            "       'Lcheek_max__standard_deviation', 'Lcheek_max__maximum',\n",
            "       'Lcheek_max__minimum', 'Lcheek_max__median', 'Lcheek_max__mean',\n",
            "       'Lcheek_max__mean_abs_change',\n",
            "       'Lcheek_max__agg_linear_trend__attr_\"slope\"__chunk_len_5__f_agg_\"max\"',\n",
            "       'Lcheek_max__agg_linear_trend__attr_\"slope\"__chunk_len_5__f_agg_\"min\"',\n",
            "       'Rcheek_max__sum_values', 'Rcheek_max__variance',\n",
            "       'Rcheek_max__standard_deviation', 'Rcheek_max__maximum',\n",
            "       'Rcheek_max__minimum', 'Rcheek_max__median', 'Rcheek_max__mean',\n",
            "       'Rcheek_max__mean_abs_change',\n",
            "       'Rcheek_max__agg_linear_trend__attr_\"slope\"__chunk_len_5__f_agg_\"max\"',\n",
            "       'Rcheek_max__agg_linear_trend__attr_\"slope\"__chunk_len_5__f_agg_\"min\"',\n",
            "       'below_nose_max__sum_values', 'below_nose_max__variance',\n",
            "       'below_nose_max__standard_deviation', 'below_nose_max__maximum',\n",
            "       'below_nose_max__minimum', 'below_nose_max__median',\n",
            "       'below_nose_max__mean', 'below_nose_max__mean_abs_change',\n",
            "       'below_nose_max__agg_linear_trend__attr_\"slope\"__chunk_len_5__f_agg_\"max\"',\n",
            "       'below_nose_max__agg_linear_trend__attr_\"slope\"__chunk_len_5__f_agg_\"min\"',\n",
            "       'between_eyes_max__sum_values', 'between_eyes_max__variance',\n",
            "       'between_eyes_max__standard_deviation', 'between_eyes_max__maximum',\n",
            "       'between_eyes_max__minimum', 'between_eyes_max__median',\n",
            "       'between_eyes_max__mean', 'between_eyes_max__mean_abs_change',\n",
            "       'between_eyes_max__agg_linear_trend__attr_\"slope\"__chunk_len_5__f_agg_\"max\"',\n",
            "       'between_eyes_max__agg_linear_trend__attr_\"slope\"__chunk_len_5__f_agg_\"min\"',\n",
            "       'chin_max__sum_values', 'chin_max__variance',\n",
            "       'chin_max__standard_deviation', 'chin_max__maximum',\n",
            "       'chin_max__minimum', 'chin_max__median', 'chin_max__mean',\n",
            "       'chin_max__mean_abs_change',\n",
            "       'chin_max__agg_linear_trend__attr_\"slope\"__chunk_len_5__f_agg_\"max\"',\n",
            "       'chin_max__agg_linear_trend__attr_\"slope\"__chunk_len_5__f_agg_\"min\"',\n",
            "       'nose_max__sum_values', 'nose_max__variance',\n",
            "       'nose_max__standard_deviation', 'nose_max__maximum',\n",
            "       'nose_max__minimum', 'nose_max__median', 'nose_max__mean',\n",
            "       'nose_max__mean_abs_change',\n",
            "       'nose_max__agg_linear_trend__attr_\"slope\"__chunk_len_5__f_agg_\"max\"',\n",
            "       'nose_max__agg_linear_trend__attr_\"slope\"__chunk_len_5__f_agg_\"min\"'],\n",
            "      dtype='object')\n"
          ]
        }
      ]
    },
    {
      "cell_type": "code",
      "source": [
        "# Mapping of old column names to new, more descriptive names\n",
        "rename_dict = {\n",
        "    'Lcheek_max__sum_values': 'Left Cheek Sum',\n",
        "    'Lcheek_max__variance': 'Left Cheek Variance',\n",
        "    'Lcheek_max__standard_deviation': 'Left Cheek Standard Deviation',\n",
        "    'Lcheek_max__maximum': 'Left Cheek Maximum',\n",
        "    'Lcheek_max__minimum': 'Left Cheek Minimum',\n",
        "    'Lcheek_max__median': 'Left Cheek Median',\n",
        "    'Lcheek_max__mean': 'Left Cheek Mean',\n",
        "    'Lcheek_max__mean_abs_change': 'Left Cheek Mean Absolute Change',\n",
        "    'Lcheek_max__agg_linear_trend__attr_\"slope\"__chunk_len_5__f_agg_\"max\"': 'Left Cheek Maximum Slope',\n",
        "    'Lcheek_max__agg_linear_trend__attr_\"slope\"__chunk_len_5__f_agg_\"min\"': 'Left Cheek Minimum Slope',\n",
        "    'Rcheek_max__sum_values': 'Right Cheek Sum',\n",
        "    'Rcheek_max__variance': 'Right Cheek Variance',\n",
        "    'Rcheek_max__standard_deviation': 'Right Cheek Standard Deviation',\n",
        "    'Rcheek_max__maximum': 'Right Cheek Maximum',\n",
        "    'Rcheek_max__minimum': 'Right Cheek Minimum',\n",
        "    'Rcheek_max__median': 'Right Cheek Median',\n",
        "    'Rcheek_max__mean': 'Right Cheek Mean',\n",
        "    'Rcheek_max__mean_abs_change': 'Right Cheek Mean Absolute Change',\n",
        "    'Rcheek_max__agg_linear_trend__attr_\"slope\"__chunk_len_5__f_agg_\"max\"': 'Right Cheek Maximum Slope',\n",
        "    'Rcheek_max__agg_linear_trend__attr_\"slope\"__chunk_len_5__f_agg_\"min\"': 'Right Cheek Minimum Slope',\n",
        "    'below_nose_max__sum_values': 'Below Nose Sum',\n",
        "    'below_nose_max__variance': 'Below Nose Variance',\n",
        "    'below_nose_max__standard_deviation': 'Below Nose Standard Deviation',\n",
        "    'below_nose_max__maximum': 'Below Nose Maximum',\n",
        "    'below_nose_max__minimum': 'Below Nose Minimum',\n",
        "    'below_nose_max__median': 'Below Nose Median',\n",
        "    'below_nose_max__mean': 'Below Nose Mean',\n",
        "    'below_nose_max__mean_abs_change': 'Below Nose Mean Absolute Change',\n",
        "    'below_nose_max__agg_linear_trend__attr_\"slope\"__chunk_len_5__f_agg_\"max\"': 'Below Nose Maximum Slope',\n",
        "    'below_nose_max__agg_linear_trend__attr_\"slope\"__chunk_len_5__f_agg_\"min\"': 'Below Nose Minimum Slope',\n",
        "    'between_eyes_max__sum_values': 'Between Eyes Sum',\n",
        "    'between_eyes_max__variance': 'Between Eyes Variance',\n",
        "    'between_eyes_max__standard_deviation': 'Between Eyes Standard Deviation',\n",
        "    'between_eyes_max__maximum': 'Between Eyes Maximum',\n",
        "    'between_eyes_max__minimum': 'Between Eyes Minimum',\n",
        "    'between_eyes_max__median': 'Between Eyes Median',\n",
        "    'between_eyes_max__mean': 'Between Eyes Mean',\n",
        "    'between_eyes_max__mean_abs_change': 'Between Eyes Mean Absolute Change',\n",
        "    'between_eyes_max__agg_linear_trend__attr_\"slope\"__chunk_len_5__f_agg_\"max\"': 'Between Eyes Maximum Slope',\n",
        "    'between_eyes_max__agg_linear_trend__attr_\"slope\"__chunk_len_5__f_agg_\"min\"': 'Between Eyes Minimum Slope',\n",
        "    'chin_max__sum_values': 'Chin Sum',\n",
        "    'chin_max__variance': 'Chin Variance',\n",
        "    'chin_max__standard_deviation': 'Chin Standard Deviation',\n",
        "    'chin_max__maximum': 'Chin Maximum',\n",
        "    'chin_max__minimum': 'Chin Minimum',\n",
        "    'chin_max__median': 'Chin Median',\n",
        "    'chin_max__mean': 'Chin Mean',\n",
        "    'chin_max__mean_abs_change': 'Chin Mean Absolute Change',\n",
        "    'chin_max__agg_linear_trend__attr_\"slope\"__chunk_len_5__f_agg_\"max\"': 'Chin Maximum Slope',\n",
        "    'chin_max__agg_linear_trend__attr_\"slope\"__chunk_len_5__f_agg_\"min\"': 'Chin Minimum Slope',\n",
        "        'nose_max__sum_values': 'Nose Sum',\n",
        "    'nose_max__variance': 'Nose Variance',\n",
        "    'nose_max__standard_deviation': 'Nose Standard Deviation',\n",
        "    'nose_max__maximum': 'Nose Maximum',\n",
        "    'nose_max__minimum': 'Nose Minimum',\n",
        "    'nose_max__median': 'Nose Median',\n",
        "    'nose_max__mean': 'Nose Mean',\n",
        "    'nose_max__mean_abs_change': 'Nose Mean Absolute Change',\n",
        "    'nose_max__agg_linear_trend__attr_\"slope\"__chunk_len_5__f_agg_\"max\"': 'Nose Maximum Slope',\n",
        "    'nose_max__agg_linear_trend__attr_\"slope\"__chunk_len_5__f_agg_\"min\"': 'Nose Minimum Slope'\n",
        "}\n",
        "\n",
        "# Rename the columns in your DataFrame\n",
        "scaled_features_df_max.rename(columns=rename_dict, inplace=True)\n",
        "\n",
        "# Verify the changes\n",
        "print(scaled_features_df_max.head())\n"
      ],
      "metadata": {
        "colab": {
          "base_uri": "https://localhost:8080/"
        },
        "id": "DX4IwFffS49z",
        "outputId": "54e5283b-9fa6-4fd7-e238-b0dd677245fe"
      },
      "execution_count": null,
      "outputs": [
        {
          "output_type": "stream",
          "name": "stdout",
          "text": [
            "   Left Cheek Sum  Left Cheek Variance  Left Cheek Standard Deviation  \\\n",
            "5       -1.509652            -0.346338                      -0.847815   \n",
            "6        0.077904             3.674402                       4.314207   \n",
            "7       -1.181725            -0.276285                      -0.512042   \n",
            "8       -0.518240            -0.130441                      -0.033610   \n",
            "9       -0.731843            -0.346568                      -0.849175   \n",
            "\n",
            "   Left Cheek Maximum  Left Cheek Minimum  Left Cheek Median  Left Cheek Mean  \\\n",
            "5           -1.557688            0.705222          -2.141693        -2.135936   \n",
            "6            0.727107            0.705222           1.416444         0.051032   \n",
            "7            0.165308            1.500742          -1.707558        -1.684194   \n",
            "8           -0.131010            1.619084          -0.909635        -0.770197   \n",
            "9           -0.049000            1.840177          -1.097579        -1.064450   \n",
            "\n",
            "   Left Cheek Mean Absolute Change  Left Cheek Maximum Slope  \\\n",
            "5                        -0.362130                 -0.615915   \n",
            "6                         0.330383                 -4.507184   \n",
            "7                         0.319521                 -0.117677   \n",
            "8                        -0.290267                  1.743989   \n",
            "9                        -0.687407                  0.338135   \n",
            "\n",
            "   Left Cheek Minimum Slope  ...  Nose Sum  Nose Variance  \\\n",
            "5                 -0.367590  ... -1.880844      -0.612846   \n",
            "6                 -5.299985  ...  1.058858      -0.021964   \n",
            "7                 -0.102681  ... -1.776045      -0.502809   \n",
            "8                  1.486402  ... -0.713533      -0.124598   \n",
            "9                  0.339397  ... -1.069640      -0.441805   \n",
            "\n",
            "   Nose Standard Deviation  Nose Maximum  Nose Minimum  Nose Median  \\\n",
            "5                -1.483300     -3.429708      0.863518    -2.147388   \n",
            "6                 0.231355      1.410353      1.489794     1.085038   \n",
            "7                -0.857952     -1.308546      0.863518    -2.147388   \n",
            "8                 0.055250     -0.092063      0.863518    -0.853751   \n",
            "9                -0.657188     -1.132280      0.863518    -1.257419   \n",
            "\n",
            "   Nose Mean  Nose Mean Absolute Change  Nose Maximum Slope  \\\n",
            "5  -2.190211                  -1.628149            0.254451   \n",
            "6   1.186347                  -1.120725            2.267801   \n",
            "7  -2.069839                  -0.871348           -0.060503   \n",
            "8  -0.849431                  -0.065441            1.727514   \n",
            "9  -1.258458                  -0.199844           -0.199410   \n",
            "\n",
            "   Nose Minimum Slope  \n",
            "5            0.395055  \n",
            "6            2.164604  \n",
            "7            0.299572  \n",
            "8            1.678995  \n",
            "9           -0.173840  \n",
            "\n",
            "[5 rows x 60 columns]\n"
          ]
        }
      ]
    },
    {
      "cell_type": "code",
      "source": [
        "file_path = \"FINAL_scaled_features_df_max.xlsx\"\n",
        "scaled_features_df_max.to_excel(file_path)\n",
        "\n",
        "from google.colab import files\n",
        "files.download(\"FINAL_scaled_features_df_max.xlsx\")"
      ],
      "metadata": {
        "colab": {
          "base_uri": "https://localhost:8080/",
          "height": 17
        },
        "id": "BOh6mh72Vckh",
        "outputId": "3c7d70bb-96e6-42e5-ecf0-6f4618cf5ece"
      },
      "execution_count": null,
      "outputs": [
        {
          "output_type": "display_data",
          "data": {
            "text/plain": [
              "<IPython.core.display.Javascript object>"
            ],
            "application/javascript": [
              "\n",
              "    async function download(id, filename, size) {\n",
              "      if (!google.colab.kernel.accessAllowed) {\n",
              "        return;\n",
              "      }\n",
              "      const div = document.createElement('div');\n",
              "      const label = document.createElement('label');\n",
              "      label.textContent = `Downloading \"${filename}\": `;\n",
              "      div.appendChild(label);\n",
              "      const progress = document.createElement('progress');\n",
              "      progress.max = size;\n",
              "      div.appendChild(progress);\n",
              "      document.body.appendChild(div);\n",
              "\n",
              "      const buffers = [];\n",
              "      let downloaded = 0;\n",
              "\n",
              "      const channel = await google.colab.kernel.comms.open(id);\n",
              "      // Send a message to notify the kernel that we're ready.\n",
              "      channel.send({})\n",
              "\n",
              "      for await (const message of channel.messages) {\n",
              "        // Send a message to notify the kernel that we're ready.\n",
              "        channel.send({})\n",
              "        if (message.buffers) {\n",
              "          for (const buffer of message.buffers) {\n",
              "            buffers.push(buffer);\n",
              "            downloaded += buffer.byteLength;\n",
              "            progress.value = downloaded;\n",
              "          }\n",
              "        }\n",
              "      }\n",
              "      const blob = new Blob(buffers, {type: 'application/binary'});\n",
              "      const a = document.createElement('a');\n",
              "      a.href = window.URL.createObjectURL(blob);\n",
              "      a.download = filename;\n",
              "      div.appendChild(a);\n",
              "      a.click();\n",
              "      div.remove();\n",
              "    }\n",
              "  "
            ]
          },
          "metadata": {}
        },
        {
          "output_type": "display_data",
          "data": {
            "text/plain": [
              "<IPython.core.display.Javascript object>"
            ],
            "application/javascript": [
              "download(\"download_66de8fd1-30bb-4238-bc5a-b62b5e85cdd3\", \"FINAL_scaled_features_df_max.xlsx\", 243307)"
            ]
          },
          "metadata": {}
        }
      ]
    }
  ]
}